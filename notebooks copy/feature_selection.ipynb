{
 "cells": [
  {
   "cell_type": "markdown",
   "metadata": {},
   "source": [
    "# Feature_selection"
   ]
  },
  {
   "cell_type": "markdown",
   "metadata": {},
   "source": [
    "## Abalation Approach (backword selection)"
   ]
  },
  {
   "cell_type": "code",
   "execution_count": 26,
   "metadata": {},
   "outputs": [],
   "source": [
    "import warnings\n",
    "import pandas as pd\n",
    "from sklearn.pipeline import Pipeline\n",
    "from sklearn.preprocessing import StandardScaler\n",
    "from sklearn.model_selection import GridSearchCV\n",
    "from sklearn.neighbors import KNeighborsRegressor\n",
    "from sklearn.feature_selection import SequentialFeatureSelector"
   ]
  },
  {
   "cell_type": "code",
   "execution_count": 35,
   "metadata": {},
   "outputs": [],
   "source": [
    "rental_df_preprocessed_train = pd.read_csv('../data/curated/rental_df_numericDescription_train.csv')\n",
    "rental_df_preprocessed_test = pd.read_csv('../data/curated/rental_df_numericDescription_test.csv')"
   ]
  },
  {
   "cell_type": "code",
   "execution_count": 39,
   "metadata": {},
   "outputs": [],
   "source": [
    "rental_df_preprocessed_train = rental_df_preprocessed_train.drop(columns='Unnamed: 0')\n",
    "rental_df_preprocessed_test = rental_df_preprocessed_test.drop(columns='Unnamed: 0')"
   ]
  },
  {
   "cell_type": "markdown",
   "metadata": {},
   "source": [
    "grid search on number of useful features, ablation approach drop one feature that has worest performance in model each time."
   ]
  },
  {
   "cell_type": "code",
   "execution_count": 19,
   "metadata": {},
   "outputs": [
    {
     "name": "stdout",
     "output_type": "stream",
     "text": [
      "Best hyperparameters:  {'knn__n_neighbors': 30}\n",
      "Selected Features:  Index(['suburb_encoded', 'bedroom', 'bathroom', 'parking',\n",
      "       'propertyType_Apartment', 'propertyType_Block of Units',\n",
      "       'propertyType_Duplex', 'propertyType_House',\n",
      "       'propertyType_Semi-Detached', 'propertyType_Terrace',\n",
      "       'propertyType_Townhouse', 'propertyType_Villa', 'under 20', '60+',\n",
      "       'Owner', 'Renter', 'Family', 'Single', 'propertyFeatures_encoded',\n",
      "       'doc2vec_embedding_1', 'doc2vec_embedding_2', 'doc2vec_embedding_3',\n",
      "       'doc2vec_embedding_4', 'doc2vec_embedding_5', 'doc2vec_embedding_6',\n",
      "       'doc2vec_embedding_7', 'doc2vec_embedding_9', 'educationIndex',\n",
      "       'transportIndex', 'lifeIndex'],\n",
      "      dtype='object')\n",
      "Best model score:  0.2733114289660848\n"
     ]
    }
   ],
   "source": [
    "# Use the whole dataset (rental_df_numericDescription)\n",
    "X_train = rental_df_preprocessed_train.drop(columns=['id', 'rent'])  # Features\n",
    "y_train = rental_df_preprocessed_train['rent']  # Target\n",
    "\n",
    "# Initialize the KNN model\n",
    "knn = KNeighborsRegressor()\n",
    "\n",
    "# Set up Sequential Feature Selector (SFS) with backward selection\n",
    "sfs_knn = SequentialFeatureSelector(knn, n_features_to_select=30, direction='backward', cv=5)\n",
    "\n",
    "# Set up the pipeline (Scaler, SFS, KNN)\n",
    "pipeline_knn = Pipeline([\n",
    "    ('scaler', StandardScaler()),        # Standardize features\n",
    "    ('sfs', sfs_knn),                    # Sequential Feature Selection (backward)\n",
    "    ('knn', knn)                         # KNN model\n",
    "])\n",
    "\n",
    "# Define the grid for hyperparameter tuning (number of neighbors)\n",
    "param_grid = {\n",
    "    'knn__n_neighbors': [10, 20, 30]  # Range of neighbors to test\n",
    "}\n",
    "\n",
    "# Perform GridSearchCV using the entire dataset\n",
    "grid_search = GridSearchCV(pipeline_knn, param_grid, cv=5)\n",
    "\n",
    "# Suppress runtime warnings and fit the model\n",
    "with warnings.catch_warnings():\n",
    "    warnings.simplefilter(\"ignore\", category=RuntimeWarning)  # Handle any runtime warnings during fitting\n",
    "    grid_search.fit(X_train, y_train)\n",
    "\n",
    "# Output the best hyperparameters\n",
    "print(\"Best hyperparameters: \", grid_search.best_params_)\n",
    "\n",
    "# Retrieve the selected features based on the best model\n",
    "best_model = grid_search.best_estimator_\n",
    "selected_features = X_train.columns[best_model.named_steps['sfs'].get_support()]\n",
    "print(\"Selected Features: \", selected_features)\n",
    "\n",
    "# Retrieve the best model's performance score\n",
    "print(\"Best model score: \", grid_search.best_score_)"
   ]
  },
  {
   "cell_type": "code",
   "execution_count": 52,
   "metadata": {},
   "outputs": [],
   "source": [
    "corrected_selected_features = [feature.replace('rent', '') for feature in selected_features]\n",
    "\n",
    "# Now, ensure 'rent' is kept in both train and test datasets\n",
    "rental_df_selected_train = rental_df_preprocessed_train[['rent'] + corrected_selected_features]\n",
    "rental_df_selected_test = rental_df_preprocessed_test[['rent'] + corrected_selected_features]\n",
    "\n",
    "# Save the datasets with 'rent' column included to CSV files\n",
    "rental_df_selected_train.to_csv('../data/rental_df_selected_train.csv', index=False)\n",
    "rental_df_selected_test.to_csv('../data/rental_df_selected_test.csv', index=False)"
   ]
  }
 ],
 "metadata": {
  "kernelspec": {
   "display_name": "base",
   "language": "python",
   "name": "python3"
  },
  "language_info": {
   "codemirror_mode": {
    "name": "ipython",
    "version": 3
   },
   "file_extension": ".py",
   "mimetype": "text/x-python",
   "name": "python",
   "nbconvert_exporter": "python",
   "pygments_lexer": "ipython3",
   "version": "3.11.3"
  }
 },
 "nbformat": 4,
 "nbformat_minor": 2
}
